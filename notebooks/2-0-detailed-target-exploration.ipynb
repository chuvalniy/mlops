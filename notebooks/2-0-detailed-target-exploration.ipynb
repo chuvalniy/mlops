{
 "cells": [
  {
   "cell_type": "markdown",
   "id": "09420b7d",
   "metadata": {
    "papermill": {
     "duration": 0.004541,
     "end_time": "2023-10-20T16:08:25.920088",
     "exception": false,
     "start_time": "2023-10-20T16:08:25.915547",
     "status": "completed"
    },
    "tags": []
   },
   "source": [
    "# Detailed Target Feature Exploration \n",
    "\n",
    "1. How height, weight and age affect on people who drink alcohol.\n",
    "2. What are the reasons why these relationship have such distributions."
   ]
  },
  {
   "cell_type": "code",
   "execution_count": 1,
   "id": "31cfdc7e",
   "metadata": {
    "execution": {
     "iopub.execute_input": "2023-10-20T16:08:25.932097Z",
     "iopub.status.busy": "2023-10-20T16:08:25.931540Z",
     "iopub.status.idle": "2023-10-20T16:08:28.021553Z",
     "shell.execute_reply": "2023-10-20T16:08:28.020335Z"
    },
    "papermill": {
     "duration": 2.097752,
     "end_time": "2023-10-20T16:08:28.024142",
     "exception": false,
     "start_time": "2023-10-20T16:08:25.926390",
     "status": "completed"
    },
    "tags": []
   },
   "outputs": [],
   "source": [
    "import pandas as pd\n",
    "\n",
    "import matplotlib.pyplot as plt\n",
    "import seaborn as sns\n",
    "\n",
    "%matplotlib inline"
   ]
  },
  {
   "cell_type": "code",
   "execution_count": 2,
   "id": "972db08a",
   "metadata": {
    "execution": {
     "iopub.execute_input": "2023-10-20T16:08:28.033167Z",
     "iopub.status.busy": "2023-10-20T16:08:28.032268Z",
     "iopub.status.idle": "2023-10-20T16:08:32.816117Z",
     "shell.execute_reply": "2023-10-20T16:08:32.814872Z"
    },
    "papermill": {
     "duration": 4.791692,
     "end_time": "2023-10-20T16:08:32.819251",
     "exception": false,
     "start_time": "2023-10-20T16:08:28.027559",
     "status": "completed"
    },
    "tags": []
   },
   "outputs": [],
   "source": [
    "df = pd.read_csv(\"/kaggle/input/smoking-drinking-dataset/smoking_driking_dataset_Ver01.csv\")"
   ]
  },
  {
   "cell_type": "code",
   "execution_count": 3,
   "id": "a74ac59b",
   "metadata": {
    "execution": {
     "iopub.execute_input": "2023-10-20T16:08:32.828524Z",
     "iopub.status.busy": "2023-10-20T16:08:32.828127Z",
     "iopub.status.idle": "2023-10-20T16:08:32.870489Z",
     "shell.execute_reply": "2023-10-20T16:08:32.869735Z"
    },
    "papermill": {
     "duration": 0.049566,
     "end_time": "2023-10-20T16:08:32.872631",
     "exception": false,
     "start_time": "2023-10-20T16:08:32.823065",
     "status": "completed"
    },
    "tags": []
   },
   "outputs": [
    {
     "data": {
      "text/html": [
       "<div>\n",
       "<style scoped>\n",
       "    .dataframe tbody tr th:only-of-type {\n",
       "        vertical-align: middle;\n",
       "    }\n",
       "\n",
       "    .dataframe tbody tr th {\n",
       "        vertical-align: top;\n",
       "    }\n",
       "\n",
       "    .dataframe thead th {\n",
       "        text-align: right;\n",
       "    }\n",
       "</style>\n",
       "<table border=\"1\" class=\"dataframe\">\n",
       "  <thead>\n",
       "    <tr style=\"text-align: right;\">\n",
       "      <th></th>\n",
       "      <th>sex</th>\n",
       "      <th>age</th>\n",
       "      <th>height</th>\n",
       "      <th>weight</th>\n",
       "      <th>waistline</th>\n",
       "      <th>sight_left</th>\n",
       "      <th>sight_right</th>\n",
       "      <th>hear_left</th>\n",
       "      <th>hear_right</th>\n",
       "      <th>SBP</th>\n",
       "      <th>...</th>\n",
       "      <th>LDL_chole</th>\n",
       "      <th>triglyceride</th>\n",
       "      <th>hemoglobin</th>\n",
       "      <th>urine_protein</th>\n",
       "      <th>serum_creatinine</th>\n",
       "      <th>SGOT_AST</th>\n",
       "      <th>SGOT_ALT</th>\n",
       "      <th>gamma_GTP</th>\n",
       "      <th>SMK_stat_type_cd</th>\n",
       "      <th>DRK_YN</th>\n",
       "    </tr>\n",
       "  </thead>\n",
       "  <tbody>\n",
       "    <tr>\n",
       "      <th>0</th>\n",
       "      <td>Male</td>\n",
       "      <td>35</td>\n",
       "      <td>170</td>\n",
       "      <td>75</td>\n",
       "      <td>90.0</td>\n",
       "      <td>1.0</td>\n",
       "      <td>1.0</td>\n",
       "      <td>1.0</td>\n",
       "      <td>1.0</td>\n",
       "      <td>120.0</td>\n",
       "      <td>...</td>\n",
       "      <td>126.0</td>\n",
       "      <td>92.0</td>\n",
       "      <td>17.1</td>\n",
       "      <td>1.0</td>\n",
       "      <td>1.0</td>\n",
       "      <td>21.0</td>\n",
       "      <td>35.0</td>\n",
       "      <td>40.0</td>\n",
       "      <td>1.0</td>\n",
       "      <td>Y</td>\n",
       "    </tr>\n",
       "    <tr>\n",
       "      <th>1</th>\n",
       "      <td>Male</td>\n",
       "      <td>30</td>\n",
       "      <td>180</td>\n",
       "      <td>80</td>\n",
       "      <td>89.0</td>\n",
       "      <td>0.9</td>\n",
       "      <td>1.2</td>\n",
       "      <td>1.0</td>\n",
       "      <td>1.0</td>\n",
       "      <td>130.0</td>\n",
       "      <td>...</td>\n",
       "      <td>148.0</td>\n",
       "      <td>121.0</td>\n",
       "      <td>15.8</td>\n",
       "      <td>1.0</td>\n",
       "      <td>0.9</td>\n",
       "      <td>20.0</td>\n",
       "      <td>36.0</td>\n",
       "      <td>27.0</td>\n",
       "      <td>3.0</td>\n",
       "      <td>N</td>\n",
       "    </tr>\n",
       "    <tr>\n",
       "      <th>2</th>\n",
       "      <td>Male</td>\n",
       "      <td>40</td>\n",
       "      <td>165</td>\n",
       "      <td>75</td>\n",
       "      <td>91.0</td>\n",
       "      <td>1.2</td>\n",
       "      <td>1.5</td>\n",
       "      <td>1.0</td>\n",
       "      <td>1.0</td>\n",
       "      <td>120.0</td>\n",
       "      <td>...</td>\n",
       "      <td>74.0</td>\n",
       "      <td>104.0</td>\n",
       "      <td>15.8</td>\n",
       "      <td>1.0</td>\n",
       "      <td>0.9</td>\n",
       "      <td>47.0</td>\n",
       "      <td>32.0</td>\n",
       "      <td>68.0</td>\n",
       "      <td>1.0</td>\n",
       "      <td>N</td>\n",
       "    </tr>\n",
       "    <tr>\n",
       "      <th>3</th>\n",
       "      <td>Male</td>\n",
       "      <td>50</td>\n",
       "      <td>175</td>\n",
       "      <td>80</td>\n",
       "      <td>91.0</td>\n",
       "      <td>1.5</td>\n",
       "      <td>1.2</td>\n",
       "      <td>1.0</td>\n",
       "      <td>1.0</td>\n",
       "      <td>145.0</td>\n",
       "      <td>...</td>\n",
       "      <td>104.0</td>\n",
       "      <td>106.0</td>\n",
       "      <td>17.6</td>\n",
       "      <td>1.0</td>\n",
       "      <td>1.1</td>\n",
       "      <td>29.0</td>\n",
       "      <td>34.0</td>\n",
       "      <td>18.0</td>\n",
       "      <td>1.0</td>\n",
       "      <td>N</td>\n",
       "    </tr>\n",
       "    <tr>\n",
       "      <th>4</th>\n",
       "      <td>Male</td>\n",
       "      <td>50</td>\n",
       "      <td>165</td>\n",
       "      <td>60</td>\n",
       "      <td>80.0</td>\n",
       "      <td>1.0</td>\n",
       "      <td>1.2</td>\n",
       "      <td>1.0</td>\n",
       "      <td>1.0</td>\n",
       "      <td>138.0</td>\n",
       "      <td>...</td>\n",
       "      <td>117.0</td>\n",
       "      <td>104.0</td>\n",
       "      <td>13.8</td>\n",
       "      <td>1.0</td>\n",
       "      <td>0.8</td>\n",
       "      <td>19.0</td>\n",
       "      <td>12.0</td>\n",
       "      <td>25.0</td>\n",
       "      <td>1.0</td>\n",
       "      <td>N</td>\n",
       "    </tr>\n",
       "  </tbody>\n",
       "</table>\n",
       "<p>5 rows × 24 columns</p>\n",
       "</div>"
      ],
      "text/plain": [
       "    sex  age  height  weight  waistline  sight_left  sight_right  hear_left  \\\n",
       "0  Male   35     170      75       90.0         1.0          1.0        1.0   \n",
       "1  Male   30     180      80       89.0         0.9          1.2        1.0   \n",
       "2  Male   40     165      75       91.0         1.2          1.5        1.0   \n",
       "3  Male   50     175      80       91.0         1.5          1.2        1.0   \n",
       "4  Male   50     165      60       80.0         1.0          1.2        1.0   \n",
       "\n",
       "   hear_right    SBP  ...  LDL_chole  triglyceride  hemoglobin  urine_protein  \\\n",
       "0         1.0  120.0  ...      126.0          92.0        17.1            1.0   \n",
       "1         1.0  130.0  ...      148.0         121.0        15.8            1.0   \n",
       "2         1.0  120.0  ...       74.0         104.0        15.8            1.0   \n",
       "3         1.0  145.0  ...      104.0         106.0        17.6            1.0   \n",
       "4         1.0  138.0  ...      117.0         104.0        13.8            1.0   \n",
       "\n",
       "   serum_creatinine  SGOT_AST  SGOT_ALT  gamma_GTP  SMK_stat_type_cd  DRK_YN  \n",
       "0               1.0      21.0      35.0       40.0               1.0       Y  \n",
       "1               0.9      20.0      36.0       27.0               3.0       N  \n",
       "2               0.9      47.0      32.0       68.0               1.0       N  \n",
       "3               1.1      29.0      34.0       18.0               1.0       N  \n",
       "4               0.8      19.0      12.0       25.0               1.0       N  \n",
       "\n",
       "[5 rows x 24 columns]"
      ]
     },
     "execution_count": 3,
     "metadata": {},
     "output_type": "execute_result"
    }
   ],
   "source": [
    "df.head()"
   ]
  },
  {
   "cell_type": "code",
   "execution_count": 4,
   "id": "8086187d",
   "metadata": {
    "execution": {
     "iopub.execute_input": "2023-10-20T16:08:32.882014Z",
     "iopub.status.busy": "2023-10-20T16:08:32.881087Z",
     "iopub.status.idle": "2023-10-20T16:08:33.633293Z",
     "shell.execute_reply": "2023-10-20T16:08:33.632293Z"
    },
    "papermill": {
     "duration": 0.759363,
     "end_time": "2023-10-20T16:08:33.635670",
     "exception": false,
     "start_time": "2023-10-20T16:08:32.876307",
     "status": "completed"
    },
    "tags": []
   },
   "outputs": [
    {
     "data": {
      "image/png": "[encoded data removed]",
      "text/plain": [
       "<Figure size 1200x600 with 1 Axes>"
      ]
     },
     "metadata": {},
     "output_type": "display_data"
    }
   ],
   "source": [
    "plt.figure(figsize=(12,6))\n",
    "sns.countplot(x=df['sex'], palette='Spectral')\n",
    "\n",
    "plt.xlabel(\"Sex\")\n",
    "plt.ylabel(\"Density\")\n",
    "\n",
    "plt.show()"
   ]
  },
  {
   "cell_type": "code",
   "execution_count": 5,
   "id": "e3128d32",
   "metadata": {
    "execution": {
     "iopub.execute_input": "2023-10-20T16:08:33.647101Z",
     "iopub.status.busy": "2023-10-20T16:08:33.645946Z",
     "iopub.status.idle": "2023-10-20T16:08:34.859898Z",
     "shell.execute_reply": "2023-10-20T16:08:34.858826Z"
    },
    "papermill": {
     "duration": 1.222044,
     "end_time": "2023-10-20T16:08:34.862109",
     "exception": false,
     "start_time": "2023-10-20T16:08:33.640065",
     "status": "completed"
    },
    "tags": []
   },
   "outputs": [
    {
     "data": {
      "image/png": "[encoded data removed]",
      "text/plain": [
       "<Figure size 1200x600 with 1 Axes>"
      ]
     },
     "metadata": {},
     "output_type": "display_data"
    }
   ],
   "source": [
    "plt.figure(figsize=(12,6))\n",
    "sns.countplot(x=df['sex'], palette='Spectral', hue=df['DRK_YN'])\n",
    "\n",
    "plt.xlabel(\"Sex\")\n",
    "plt.ylabel(\"Density\")\n",
    "\n",
    "plt.legend(title=\"Drinking habits\", labels=[\"Drinker\", \"Non-Drinker\"])\n",
    "\n",
    "plt.show()"
   ]
  },
  {
   "cell_type": "code",
   "execution_count": 6,
   "id": "9fef2e75",
   "metadata": {
    "execution": {
     "iopub.execute_input": "2023-10-20T16:08:34.873422Z",
     "iopub.status.busy": "2023-10-20T16:08:34.872393Z",
     "iopub.status.idle": "2023-10-20T16:08:37.005349Z",
     "shell.execute_reply": "2023-10-20T16:08:37.002554Z"
    },
    "papermill": {
     "duration": 2.146513,
     "end_time": "2023-10-20T16:08:37.013190",
     "exception": false,
     "start_time": "2023-10-20T16:08:34.866677",
     "status": "completed"
    },
    "tags": []
   },
   "outputs": [
    {
     "data": {
      "image/png": "[encoded data removed]",
      "text/plain": [
       "<Figure size 1200x600 with 1 Axes>"
      ]
     },
     "metadata": {},
     "output_type": "display_data"
    }
   ],
   "source": [
    "plt.figure(figsize=(12,6))\n",
    "sns.histplot(data=df, x='age', palette='Spectral', hue='DRK_YN', multiple='stack')\n",
    "\n",
    "plt.xlabel(\"Age\")\n",
    "plt.ylabel(\"Density\")\n",
    "\n",
    "plt.legend(title=\"Drinking habits\", labels=[\"Non-Drinker\", \"Drinker\"])\n",
    "\n",
    "plt.show()"
   ]
  },
  {
   "cell_type": "code",
   "execution_count": 7,
   "id": "8be2bfc2",
   "metadata": {
    "execution": {
     "iopub.execute_input": "2023-10-20T16:08:37.027472Z",
     "iopub.status.busy": "2023-10-20T16:08:37.026269Z",
     "iopub.status.idle": "2023-10-20T16:08:37.035558Z",
     "shell.execute_reply": "2023-10-20T16:08:37.033873Z"
    },
    "papermill": {
     "duration": 0.01875,
     "end_time": "2023-10-20T16:08:37.037746",
     "exception": true,
     "start_time": "2023-10-20T16:08:37.018996",
     "status": "failed"
    },
    "tags": []
   },
   "outputs": [
    {
     "ename": "SyntaxError",
     "evalue": "unterminated string literal (detected at line 3) (1151734157.py, line 3)",
     "output_type": "error",
     "traceback": [
      "\u001b[0;36m  Cell \u001b[0;32mIn[7], line 3\u001b[0;36m\u001b[0m\n\u001b[0;31m    plt.ylabel(\"Density )\u001b[0m\n\u001b[0m               ^\u001b[0m\n\u001b[0;31mSyntaxError\u001b[0m\u001b[0;31m:\u001b[0m unterminated string literal (detected at line 3)\n"
     ]
    }
   ],
   "source": [
    "plt.figure(figsize=(12,6))\n",
    "plt.xlabel(\"Age\")\n",
    "plt.ylabel(\"Density )\n",
    "\n",
    "plt.axvline(x= 37.5, linewidth=1, color='r', linestyle='--', ymin=0, ymax=1)\n",
    "plt.axvline(x= 62.5, linewidth=1, color='r', linestyle='--', ymin=0, ymax=1)\n",
    "           \n",
    "sns.kdeplot(df['age'])"
   ]
  },
  {
   "cell_type": "code",
   "execution_count": null,
   "id": "e3779f86",
   "metadata": {
    "execution": {
     "iopub.execute_input": "2023-10-19T18:52:14.409031Z",
     "iopub.status.busy": "2023-10-19T18:52:14.408624Z",
     "iopub.status.idle": "2023-10-19T18:52:16.580529Z",
     "shell.execute_reply": "2023-10-19T18:52:16.579325Z",
     "shell.execute_reply.started": "2023-10-19T18:52:14.409000Z"
    },
    "papermill": {
     "duration": null,
     "end_time": null,
     "exception": null,
     "start_time": null,
     "status": "pending"
    },
    "tags": []
   },
   "outputs": [],
   "source": [
    "plt.figure(figsize=(12,6))\n",
    "sns.histplot(data=df, x='height', palette='Spectral', hue='DRK_YN', multiple='stack')\n",
    "\n",
    "plt.xlabel(\"Height in cm\")\n",
    "plt.ylabel(\"Density\")\n",
    "\n",
    "plt.legend(title=\"Drinking habits\", labels=[\"Non-Drinker\", \"Drinker\"])\n",
    "\n",
    "plt.show()"
   ]
  },
  {
   "cell_type": "code",
   "execution_count": null,
   "id": "b7e2ba69",
   "metadata": {
    "execution": {
     "iopub.execute_input": "2023-10-19T18:53:26.861285Z",
     "iopub.status.busy": "2023-10-19T18:53:26.860877Z",
     "iopub.status.idle": "2023-10-19T18:53:31.621573Z",
     "shell.execute_reply": "2023-10-19T18:53:31.620520Z",
     "shell.execute_reply.started": "2023-10-19T18:53:26.861256Z"
    },
    "papermill": {
     "duration": null,
     "end_time": null,
     "exception": null,
     "start_time": null,
     "status": "pending"
    },
    "tags": []
   },
   "outputs": [],
   "source": [
    "plt.figure(figsize=(12,6))\n",
    "plt.xlabel(\"Height in cm\")\n",
    "plt.ylabel(\"Density\")\n",
    "\n",
    "plt.axvline(x= 152.5, linewidth=1, color='r', linestyle='--', ymin=0, ymax=1)\n",
    "plt.axvline(x= 172.5, linewidth=1, color='r', linestyle='--', ymin=0, ymax=1)\n",
    "           \n",
    "sns.kdeplot(df['height'])"
   ]
  },
  {
   "cell_type": "code",
   "execution_count": null,
   "id": "d0b5b78d",
   "metadata": {
    "execution": {
     "iopub.execute_input": "2023-10-19T18:55:43.938608Z",
     "iopub.status.busy": "2023-10-19T18:55:43.938240Z",
     "iopub.status.idle": "2023-10-19T18:55:47.136193Z",
     "shell.execute_reply": "2023-10-19T18:55:47.135295Z",
     "shell.execute_reply.started": "2023-10-19T18:55:43.938581Z"
    },
    "papermill": {
     "duration": null,
     "end_time": null,
     "exception": null,
     "start_time": null,
     "status": "pending"
    },
    "tags": []
   },
   "outputs": [],
   "source": [
    "plt.figure(figsize=(18,9))\n",
    "sns.histplot(data=df, x='weight', palette='Spectral', hue='DRK_YN', multiple='stack')\n",
    "\n",
    "plt.xlabel(\"Weight in kg\")\n",
    "plt.ylabel(\"Density\")\n",
    "\n",
    "plt.legend(title=\"Drinking habits\", labels=[\"Non-Drinker\", \"Drinker\"])\n",
    "\n",
    "plt.show()"
   ]
  },
  {
   "cell_type": "code",
   "execution_count": null,
   "id": "66b36ecb",
   "metadata": {
    "execution": {
     "iopub.execute_input": "2023-10-19T18:57:40.731960Z",
     "iopub.status.busy": "2023-10-19T18:57:40.731562Z",
     "iopub.status.idle": "2023-10-19T18:57:45.437423Z",
     "shell.execute_reply": "2023-10-19T18:57:45.436504Z",
     "shell.execute_reply.started": "2023-10-19T18:57:40.731930Z"
    },
    "papermill": {
     "duration": null,
     "end_time": null,
     "exception": null,
     "start_time": null,
     "status": "pending"
    },
    "tags": []
   },
   "outputs": [],
   "source": [
    "plt.figure(figsize=(12,7))\n",
    "plt.xlabel(\"Weight in kg\")\n",
    "plt.ylabel(\"Density\")\n",
    "\n",
    "plt.axvline(x= 46.5, linewidth=1, color='r', linestyle='--', ymin=0, ymax=1)\n",
    "plt.axvline(x= 72.5, linewidth=1, color='r', linestyle='--', ymin=0, ymax=1)\n",
    "           \n",
    "sns.kdeplot(df['weight'])"
   ]
  },
  {
   "cell_type": "markdown",
   "id": "5fd95035",
   "metadata": {
    "papermill": {
     "duration": null,
     "end_time": null,
     "exception": null,
     "start_time": null,
     "status": "pending"
    },
    "tags": []
   },
   "source": [
    "# Summarization.\n",
    "\n",
    "### Age\n",
    "\n",
    "Basically, from 20 to 45 years old, the ratio of drinkers is higher than that of non-drinkers. The older a person is, the less likely he is to drink alcohol. In this conclusion, one can try to establish the theme that people with bad habits can have health problems, which can later lead to death at an earlier age. It is also worth considering possible political historical moments related to the country’s society being observed.\n",
    "\n",
    "\n",
    "### Height\n",
    "\n",
    "In a graph of human height, you can see that there is a tendency for the ratio of drinkers to non-drinkers to increase as a person's height increases. Here you can answer more convincingly, since most of the people who drink are men, whose height, on average, is higher than that of women. Therefore, as height increases, the percentage of people who drink also increases. This does not mean that sooner or later the ratio of drinking people with increasing height will necessarily reach 100%.\n",
    "\n",
    "### Weight\n",
    "\n",
    "In a graph of a person's weight, you can also notice that the percentage of people who drink increases as the person's weight increases. Again, this can be attributed to the fact that in the data the percentage of men whose drink ratio is higher than women, and men weigh on average more than women due to their higher height."
   ]
  }
 ],
 "metadata": {
  "kernelspec": {
   "display_name": "Python 3",
   "language": "python",
   "name": "python3"
  },
  "language_info": {
   "codemirror_mode": {
    "name": "ipython",
    "version": 3
   },
   "file_extension": ".py",
   "mimetype": "text/x-python",
   "name": "python",
   "nbconvert_exporter": "python",
   "pygments_lexer": "ipython3",
   "version": "3.10.12"
  },
  "papermill": {
   "default_parameters": {},
   "duration": 15.268256,
   "end_time": "2023-10-20T16:08:37.766451",
   "environment_variables": {},
   "exception": true,
   "input_path": "__notebook__.ipynb",
   "output_path": "__notebook__.ipynb",
   "parameters": {},
   "start_time": "2023-10-20T16:08:22.498195",
   "version": "2.4.0"
  }
 },
 "nbformat": 4,
 "nbformat_minor": 5
}
